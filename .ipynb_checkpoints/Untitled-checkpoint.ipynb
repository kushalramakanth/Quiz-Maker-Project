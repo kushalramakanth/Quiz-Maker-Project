{
 "cells": [
  {
   "cell_type": "code",
   "execution_count": null,
   "metadata": {},
   "outputs": [],
   "source": [
    "import csv\n",
    "import random\n",
    "\n",
    "def checkAns(ans,key):\n",
    "    \"\"\" \n",
    "        Checks the answer for keyword\n",
    "        if keyword is found\n",
    "            returns 1\n",
    "        else\n",
    "            returns 0\n",
    "            \n",
    "    \"\"\"\n",
    "    a = ans.split(' ')\n",
    "    b = key.split(' ')\n",
    "    flag = 0\n",
    "    for i in range(len(a)):\n",
    "        for j in range(len(b)):\n",
    "            if a[i] == b[j]:\n",
    "                return 1\n",
    "    return 0\n",
    "\n",
    "def main():\n",
    "    print(\"\\n----------Quiz----------\\n\")\n",
    "    with open(\"untitled.csv\",\"r\") as fh:\n",
    "        reader = csv.reader(fh,delimiter = \",\")\n",
    "        data = list(reader)\n",
    "        done = [] #keeps track of the question numbers to avoid repeating\n",
    "        points = 0 #To track the points earned\n",
    "        for i in range(5): # prints 10 random questions from the given file\n",
    "            while True:\n",
    "                n = random.randint(1,len(data))\n",
    "                if n not in done:#checks for repeatition of questions\n",
    "                    done.append(n)\n",
    "                    break\n",
    "\n",
    "            print(f\"\\n{i+1}. {data[done[-1]][1]}\")\n",
    "            print(\"Ans:\",end='')\n",
    "            ans = input()# user input\n",
    "            points += checkAns(ans.lower(),data[done[-1]][2])# answer given by user in lower case and the keyword is passed\n",
    "        print(\"\\n\\n Total Score = \",points)\n",
    "    \n",
    "if __name__ == '__main__':\n",
    "\tmain()\n"
   ]
  }
 ],
 "metadata": {
  "kernelspec": {
   "display_name": "Python 3",
   "language": "python",
   "name": "python3"
  },
  "language_info": {
   "codemirror_mode": {
    "name": "ipython",
    "version": 3
   },
   "file_extension": ".py",
   "mimetype": "text/x-python",
   "name": "python",
   "nbconvert_exporter": "python",
   "pygments_lexer": "ipython3",
   "version": "3.6.7"
  }
 },
 "nbformat": 4,
 "nbformat_minor": 2
}
